{
 "cells": [
  {
   "cell_type": "markdown",
   "metadata": {},
   "source": [
    "### Implisitt RK m. p. m. i 3D\n",
    "\n",
    "Eg vel å ikkje gjere metoden generell.\n",
    "Det viser seg å vere vanskeleg å få sympy til å produsere\n",
    "Jacobian-matriser for \n"
   ]
  },
  {
   "cell_type": "code",
   "execution_count": 124,
   "metadata": {},
   "outputs": [],
   "source": [
    "import numpy as np\n",
    "import sympy as sp\n",
    "\n",
    "sp.init_printing()"
   ]
  },
  {
   "cell_type": "code",
   "execution_count": 21,
   "metadata": {},
   "outputs": [],
   "source": [
    "def dim(x):\n",
    "    if np.shape(x) == ():\n",
    "        return 1\n",
    "    else:\n",
    "        return len(x)"
   ]
  },
  {
   "cell_type": "code",
   "execution_count": 131,
   "metadata": {},
   "outputs": [],
   "source": [
    "def RK(f, y0, t):\n",
    "    d = dim(y0)\n",
    "    # t_u is a scalar\n",
    "    t_u = sp.symbols('t_u')\n",
    "    # y_n and u are both d-dimensional vectors\n",
    "    Yn = sp.symarray('y', d)\n",
    "    U  = sp.symarray('u', d)\n",
    "    \n",
    "    F = sp.Matrix(Yn) + sp.Matrix([f(t_u, U)]) - sp.Matrix(U)\n",
    "    J = F.jacobian(U)\n",
    "\n",
    "    return F, J"
   ]
  },
  {
   "cell_type": "markdown",
   "metadata": {},
   "source": [
    "### Test i 1-d"
   ]
  },
  {
   "cell_type": "code",
   "execution_count": 127,
   "metadata": {},
   "outputs": [],
   "source": [
    "def f(t, y): return sp.cos(t)\n",
    "t = np.linspace(0, 2*np.pi, 100)\n",
    "F, J = RK(f, y0=0, t=t)"
   ]
  },
  {
   "cell_type": "code",
   "execution_count": 129,
   "metadata": {},
   "outputs": [
    {
     "data": {
      "image/png": "[encoded data removed]",
      "text/latex": [
       "$$\\left[\\begin{matrix}- u_{0} + y_{0} + \\cos{\\left (t_{u} \\right )}\\end{matrix}\\right]$$"
      ],
      "text/plain": [
       "[-u₀ + y₀ + cos(tᵤ)]"
      ]
     },
     "execution_count": 129,
     "metadata": {},
     "output_type": "execute_result"
    }
   ],
   "source": [
    "F"
   ]
  },
  {
   "cell_type": "code",
   "execution_count": 130,
   "metadata": {},
   "outputs": [
    {
     "data": {
      "image/png": "[encoded data removed]",
      "text/latex": [
       "$$\\left[\\begin{matrix}-1\\end{matrix}\\right]$$"
      ],
      "text/plain": [
       "[-1]"
      ]
     },
     "execution_count": 130,
     "metadata": {},
     "output_type": "execute_result"
    }
   ],
   "source": [
    "J"
   ]
  },
  {
   "cell_type": "markdown",
   "metadata": {},
   "source": [
    "### Test i 2-d"
   ]
  },
  {
   "cell_type": "code",
   "execution_count": 133,
   "metadata": {},
   "outputs": [],
   "source": [
    "def f(t, v):\n",
    "    return sp.Matrix([\n",
    "        sp.cos(v[0]), \n",
    "        sp.exp(v[1]),\n",
    "    ])\n",
    "\n",
    "t = np.linspace(0, 2*np.pi, 100)\n",
    "F, J = RK(f, y0=[0, 0], t=t)"
   ]
  },
  {
   "cell_type": "code",
   "execution_count": 134,
   "metadata": {},
   "outputs": [
    {
     "data": {
      "image/png": "[encoded data removed]",
      "text/latex": [
       "$$\\left[\\begin{matrix}- u_{0} + y_{0} + \\cos{\\left (u_{0} \\right )}\\\\- u_{1} + y_{1} + e^{u_{1}}\\end{matrix}\\right]$$"
      ],
      "text/plain": [
       "⎡-u₀ + y₀ + cos(u₀)⎤\n",
       "⎢                  ⎥\n",
       "⎢              u₁  ⎥\n",
       "⎣  -u₁ + y₁ + ℯ    ⎦"
      ]
     },
     "execution_count": 134,
     "metadata": {},
     "output_type": "execute_result"
    }
   ],
   "source": [
    "F"
   ]
  },
  {
   "cell_type": "code",
   "execution_count": 135,
   "metadata": {},
   "outputs": [
    {
     "data": {
      "image/png": "[encoded data removed]",
      "text/latex": [
       "$$\\left[\\begin{matrix}- \\sin{\\left (u_{0} \\right )} - 1 & 0\\\\0 & e^{u_{1}} - 1\\end{matrix}\\right]$$"
      ],
      "text/plain": [
       "⎡-sin(u₀) - 1     0   ⎤\n",
       "⎢                     ⎥\n",
       "⎢               u₁    ⎥\n",
       "⎣     0        ℯ   - 1⎦"
      ]
     },
     "execution_count": 135,
     "metadata": {},
     "output_type": "execute_result"
    }
   ],
   "source": [
    "J"
   ]
  }
 ],
 "metadata": {
  "kernelspec": {
   "display_name": "Python 3",
   "language": "python",
   "name": "python3"
  },
  "language_info": {
   "codemirror_mode": {
    "name": "ipython",
    "version": 3
   },
   "file_extension": ".py",
   "mimetype": "text/x-python",
   "name": "python",
   "nbconvert_exporter": "python",
   "pygments_lexer": "ipython3",
   "version": "3.6.7"
  }
 },
 "nbformat": 4,
 "nbformat_minor": 2
}
