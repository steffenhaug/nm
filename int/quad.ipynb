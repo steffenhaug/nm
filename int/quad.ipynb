{
 "cells": [
  {
   "cell_type": "markdown",
   "metadata": {},
   "source": [
    "# Kvadratur-metodar"
   ]
  },
  {
   "cell_type": "markdown",
   "metadata": {},
   "source": [
    "## Adaptiv Simpson-kvadratur"
   ]
  },
  {
   "cell_type": "code",
   "execution_count": 15,
   "metadata": {},
   "outputs": [],
   "source": [
    "import matplotlib as mpl\n",
    "import matplotlib.pyplot as plt\n",
    "import numpy as np\n",
    "import sympy as sp\n",
    "\n",
    "# pretty-print sympy things\n",
    "sp.init_printing()\n",
    "\n",
    "# nice big latex-flavored plots\n",
    "# if you don't have these fonts, or you don't have\n",
    "# XeLaTeX installed, this needs to be modified.\n",
    "fontsize = 20\n",
    "newparams = {\n",
    "    'axes.titlesize': fontsize,\n",
    "    'axes.labelsize': fontsize,\n",
    "    'lines.linewidth': 2, \n",
    "    'lines.markersize': 7,\n",
    "    'font.family': \"serif\",\n",
    "    'text.usetex': True,\n",
    "    \"pgf.texsystem\": \"xelatex\",\n",
    "    \"pgf.rcfonts\": False,\n",
    "    \"pgf.preamble\": [\n",
    "        r\"\\usepackage{unicode-math}\",\n",
    "        r\"\\setmainfont{EB Garamond}\",\n",
    "        r\"\\setmonofont{Courier New}\",\n",
    "        r\"\\setmathfont[StylisticSet={2,7,10}]{Garamond-Math}\",\n",
    "    ],\n",
    "    'figure.figsize': (16,9), \n",
    "    'ytick.labelsize': fontsize,\n",
    "    'xtick.labelsize': fontsize,\n",
    "    'legend.fontsize': fontsize,\n",
    "    'legend.handlelength': 1.5,\n",
    "    'xtick.major.pad': 8,\n",
    "    'ytick.major.pad': 8,\n",
    "}\n",
    "\n",
    "# !!!\n",
    "# for some reason, on some machines, you need to run this cell twice\n",
    "# it probably has something to do with python versions or something\n",
    "# !!!\n",
    "%matplotlib inline\n",
    "\n",
    "# makes mpl use the pgf-renderer. sometimes (but not on all machines)\n",
    "# this disables rendering in the notebook.\n",
    "# if this happens on your machine, maybe use\n",
    "# another backend while working, and switch\n",
    "# to pgf when you want to generate the final plots.\n",
    "mpl.use('pgf')\n",
    "\n",
    "# right angles never hurt anyone,\n",
    "# so use classic as a base theme\n",
    "plt.style.use('classic')\n",
    "# the gray border is not visible in the plot rendered\n",
    "# by plt.savefig, so dont't  worry about that\n",
    "\n",
    "# finally change the necessary parameters\n",
    "plt.rcParams.update(newparams)"
   ]
  },
  {
   "cell_type": "code",
   "execution_count": 2,
   "metadata": {},
   "outputs": [],
   "source": [
    "def S(f, a, b):\n",
    "    return (f(a) + 4 * f((a + b) / 2) + f(b))  \\\n",
    "         * (b - a) / 6\n",
    "\n",
    "def asm_quad(f, a, b, tol=1e-5):\n",
    "    I0 = S(f, a, b)\n",
    "    c = (a + b) / 2\n",
    "    \n",
    "    I = S(f, a, c) + S(f, c, b) \n",
    "    err = abs(I - I0) / 15\n",
    "    \n",
    "    if err < tol:\n",
    "        return I + (I - I0) / 15\n",
    "    else:\n",
    "        return asm_quad(f, a, c, tol=tol/2)  \\\n",
    "             + asm_quad(f, c, b, tol=tol/2)"
   ]
  },
  {
   "cell_type": "markdown",
   "metadata": {},
   "source": [
    "### Testar"
   ]
  },
  {
   "cell_type": "code",
   "execution_count": 3,
   "metadata": {
    "scrolled": false
   },
   "outputs": [
    {
     "data": {
      "image/png": "[encoded data removed]",
      "text/plain": [
       "<Figure size 432x288 with 1 Axes>"
      ]
     },
     "metadata": {
      "needs_background": "light"
     },
     "output_type": "display_data"
    }
   ],
   "source": [
    "x = sp.symbols('x')\n",
    "\n",
    "### first test\n",
    "f = sp.cos(2 * sp.pi * x)\n",
    "F = sp.integrate(f)\n",
    "# make python function versions\n",
    "fa = sp.lambdify(x, f)\n",
    "Fa = sp.lambdify(x, F)\n",
    "\n",
    "aa, ba = 0, 1\n",
    "Ia = Fa(ba) - Fa(aa) # = 0\n",
    "\n",
    "### second test\n",
    "f = sp.exp(3 * x) * sp.sin(2 * x)\n",
    "F = sp.integrate(f)\n",
    "# make python function versions\n",
    "fb = sp.lambdify(x, f)\n",
    "Fb = sp.lambdify(x, F)\n",
    "\n",
    "ab, bb = 0, np.pi/4\n",
    "Ib = Fb(bb) - Fb(ab)\n",
    "\n",
    "tols = np.linspace(10, 1e-10, 100)\n",
    "errsa = np.array([abs(asm_quad(fa, aa, ba, tol=t) - Ia) for t in tols])\n",
    "errsb = np.array([abs(asm_quad(fb, ab, bb, tol=t) - Ib) for t in tols])\n",
    "\n",
    "plt.plot(tols, tols,  'k:',  label=\"Toleranse\")\n",
    "plt.plot(tols, errsa, 'k',   label=\"Feil i $\\int\\limits_0^1 \\! \\mathrm dx \\, \\cos 2 \\pi x$\")\n",
    "plt.plot(tols, errsb, 'k--', label=\"Feil i $\\int\\limits_0^{\\pi/4} \\! \\mathrm dx \\, \\exp 3 x \\sin 2x$\")\n",
    "\n",
    "plt.xscale('log')\n",
    "plt.yscale('log')\n",
    "\n",
    "plt.ylabel(\"Feil\")\n",
    "plt.xlabel(\"Toleranse\")\n",
    "\n",
    "plt.xlim(tols[0], tols[-1])\n",
    "plt.legend(loc=\"best\")\n",
    "\n",
    "plt.savefig(\"simp_err.pdf\", bbox_inches = 'tight', pad_inches = 0)\n",
    "\n",
    "plt.tight_layout()"
   ]
  },
  {
   "cell_type": "code",
   "execution_count": 4,
   "metadata": {},
   "outputs": [
    {
     "data": {
      "image/png": "[encoded data removed]",
      "text/latex": [
       "$$\\left ( 2.588628632507135, \\quad -2.7138785046392718e-17\\right )$$"
      ],
      "text/plain": [
       "(2.588628632507135, -2.7138785046392718e-17)"
      ]
     },
     "execution_count": 4,
     "metadata": {},
     "output_type": "execute_result"
    }
   ],
   "source": [
    "asm_quad(fb, 0, np.pi/4, tol=1e-10), asm_quad(fa, 0, 1, tol=1e-10)"
   ]
  },
  {
   "cell_type": "markdown",
   "metadata": {},
   "source": [
    "## Romberg-kvadratur"
   ]
  },
  {
   "cell_type": "markdown",
   "metadata": {},
   "source": [
    "Eg brukar dette trikset for å spare litt minne:"
   ]
  },
  {
   "cell_type": "code",
   "execution_count": 5,
   "metadata": {},
   "outputs": [
    {
     "name": "stdout",
     "output_type": "stream",
     "text": [
      "[[8 8 8]\n",
      " [9 9 9]]\n"
     ]
    }
   ],
   "source": [
    "R = np.array([[1, 2, 3], [3, 4, 5]])\n",
    "Rp, Rn = 0, 1\n",
    "\n",
    "R[Rn, :] = 9\n",
    "Rp, Rn = Rn, Rp # (1)\n",
    "R[Rn, :] = 8\n",
    "print(R)"
   ]
  },
  {
   "cell_type": "markdown",
   "metadata": {},
   "source": [
    "Og lagrar kun to rader i gongen. Vi kan bruke (1)\n",
    "til å bytte radene. Til eit kvart tidspunkt er\n",
    "${\\tt R[Rn, j]} = R(n, j)$ og ${\\tt R[Rp, j]} = R(n - 1, j)$.\n",
    "Når vi er ferdig med ein iterasjon byttar vi om på \"peikarane\",\n",
    "slik at `Rn` blir `Rp`, og skriv over verdiane frå to iterasjonar\n",
    "tilbake i i staden for å allokere minne for heile matrisa."
   ]
  },
  {
   "cell_type": "code",
   "execution_count": 6,
   "metadata": {},
   "outputs": [],
   "source": [
    "def romberg(f, a, b, MAX_ITER=100, tol=1e-5):\n",
    "    R = np.zeros((2, MAX_ITER))\n",
    "    Rp, Rn = 0, 1\n",
    "    \n",
    "    h = b - a \n",
    "    R[Rp, 0] = 0.5 * h * (f(a) + f(b))\n",
    "    \n",
    "    for n in range(1, MAX_ITER):\n",
    "        h = h * 0.5\n",
    "        L = np.linspace(a + h, b - h, 1 << n - 1)\n",
    "        R[Rn, 0] = 0.5 * R[Rp, 0] + h * np.sum(f(L))\n",
    "        \n",
    "        for k in range(1, n + 1):\n",
    "            E = (R[Rn, k - 1] - R[Rp, k - 1]) / ((1 << 2 * k) - 1)\n",
    "            R[Rn, k] = R[Rn, k - 1] + E\n",
    "                \n",
    "        Rp, Rn = Rn, Rp\n",
    "        \n",
    "        if abs(E) < tol:\n",
    "            break\n",
    "    \n",
    "    return R[Rp, n]"
   ]
  },
  {
   "cell_type": "markdown",
   "metadata": {},
   "source": [
    "### Test\n",
    "For å teste algoritma forsøker eg å evaluere gauss-integralet."
   ]
  },
  {
   "cell_type": "code",
   "execution_count": 7,
   "metadata": {},
   "outputs": [
    {
     "data": {
      "image/png": "[encoded data removed]",
      "text/latex": [
       "$$\\left ( 0.8427007929495082, \\quad 2.0672352718520415e-13\\right )$$"
      ],
      "text/plain": [
       "(0.8427007929495082, 2.0672352718520415e-13)"
      ]
     },
     "execution_count": 7,
     "metadata": {},
     "output_type": "execute_result"
    }
   ],
   "source": [
    "def gauss(x): return 2/np.sqrt(np.pi) * np.exp(-x**2)\n",
    "\n",
    "erf1_exact = 0.842700792949714869341220635082609259296066997966302908459\n",
    "\n",
    "erf1 = romberg(gauss, 0, 1, tol=1e-10)\n",
    "erf1, abs(erf1 - erf1_exact)"
   ]
  },
  {
   "cell_type": "code",
   "execution_count": 8,
   "metadata": {},
   "outputs": [],
   "source": [
    "def f(x): return np.cos(2 * np.pi * x)\n",
    "def g(x): return x**(1/3)"
   ]
  },
  {
   "cell_type": "code",
   "execution_count": 9,
   "metadata": {},
   "outputs": [
    {
     "data": {
      "image/png": "[encoded data removed]",
      "text/latex": [
       "$$\\left ( 1.3818740844726562, \\quad 3.301523444091585e-13, \\quad 0.7499884651404997\\right )$$"
      ],
      "text/plain": [
       "(1.3818740844726562, 3.301523444091585e-13, 0.7499884651404997)"
      ]
     },
     "execution_count": 9,
     "metadata": {},
     "output_type": "execute_result"
    }
   ],
   "source": [
    "import time\n",
    "start = time.time()\n",
    "a,b = romberg(f, 0, 1, tol=1e-10), romberg(g, 0, 1, tol=1e-10)\n",
    "end = time.time()\n",
    "(end - start) * 1000, a, b"
   ]
  },
  {
   "cell_type": "code",
   "execution_count": 10,
   "metadata": {},
   "outputs": [
    {
     "data": {
      "image/png": "[encoded data removed]",
      "text/latex": [
       "$$\\left ( 61.40470504760742, \\quad -2.7138785046392718e-17, \\quad 0.75\\right )$$"
      ],
      "text/plain": [
       "(61.40470504760742, -2.7138785046392718e-17, 0.75)"
      ]
     },
     "execution_count": 10,
     "metadata": {},
     "output_type": "execute_result"
    }
   ],
   "source": [
    "start = time.time()\n",
    "a,b = asm_quad(f, 0, 1, tol=1e-16), asm_quad(g, 0, 1, tol=1e-16)\n",
    "end = time.time()\n",
    "(end - start) * 1000, a, b"
   ]
  },
  {
   "cell_type": "markdown",
   "metadata": {},
   "source": [
    "Romberg-algoritma ser ut til å vere vesentlig raskare,\n",
    "men adaptiv simpson gir _litt_ meir presise resultat.\n",
    "Samanlikninga er ikkje heilt rettferdig, ettersom simpson-algoritma er rekursiv,\n",
    "men kan skrivast iterativt.\n",
    "\n",
    "Rekursive algoritmer er ofte treige i Python,\n",
    "fordi allokasjon av stack-rammer (so vidt eg veit) krever dynamisk allokering av\n",
    "minne til bytecode-vektoren, samanlikna med kompilerte språk der allokasjon av stack-rammer\n",
    "kunn svarar til å inkrementere ein peikar."
   ]
  },
  {
   "cell_type": "code",
   "execution_count": 11,
   "metadata": {},
   "outputs": [],
   "source": [
    "def print_tabulated(row):\n",
    "    for r in row:\n",
    "        if not np.isnan(r): print(\"{:.8f}\".format(r), end='\\t')\n",
    "    print()\n",
    "\n",
    "def romberg_collect_stats(f, a, b, MAX_ITER=100, tol=1e-5, exact=np.nan):\n",
    "    R = np.full(shape = (2, MAX_ITER), fill_value = np.nan)\n",
    "    Rp, Rn = 0, 1\n",
    "    \n",
    "    h = b - a \n",
    "    R[Rp, 0] = 0.5 * h * (f(a) + f(b))\n",
    "    \n",
    "    stats = {\n",
    "        'En0': [abs(R[Rp, 0] - exact)],\n",
    "        'Enn': [abs(R[Rp, 0] - exact)],\n",
    "    }\n",
    "    \n",
    "    for n in range(1, MAX_ITER):\n",
    "        h = h * 0.5\n",
    "        L = np.linspace(a + h, b - h, 1 << n - 1)\n",
    "        R[Rn, 0] = 0.5 * R[Rp, 0] + h * np.sum(f(L))\n",
    "        \n",
    "        for k in range(1, n + 1):\n",
    "            E = (R[Rn, k - 1] - R[Rp, k - 1]) / (4**k - 1)\n",
    "            R[Rn, k] = R[Rn, k - 1] + E\n",
    "        \n",
    "        # collect information about the error\n",
    "        stats['En0'].append(abs(R[Rn, 0] - exact))\n",
    "        stats['Enn'].append(abs(R[Rn, n] - exact))\n",
    "        print_tabulated(R[Rn, :])\n",
    "        \n",
    "        Rp, Rn = Rn, Rp\n",
    "                \n",
    "        if abs(E) < tol:\n",
    "            break\n",
    "    \n",
    "    return R[Rp, n], stats"
   ]
  },
  {
   "cell_type": "code",
   "execution_count": 32,
   "metadata": {},
   "outputs": [
    {
     "name": "stdout",
     "output_type": "stream",
     "text": [
      "0.82526296\t0.84310283\t\n",
      "0.83836778\t0.84273605\t0.84271160\t\n",
      "0.84161922\t0.84270304\t0.84270083\t0.84270066\t\n",
      "0.84243051\t0.84270093\t0.84270079\t0.84270079\t0.84270079\t\n",
      "0.84263323\t0.84270080\t0.84270079\t0.84270079\t0.84270079\t0.84270079\t\n",
      "0.84268390\t0.84270079\t0.84270079\t0.84270079\t0.84270079\t0.84270079\t0.84270079\t\n"
     ]
    },
    {
     "data": {
      "image/png": "[encoded data removed]",
      "text/plain": [
       "<Figure size 1280x720 with 1 Axes>"
      ]
     },
     "metadata": {},
     "output_type": "display_data"
    }
   ],
   "source": [
    "erf1, stats = romberg_collect_stats(gauss, 0, 1, tol=1e-16, exact=erf1_exact)\n",
    "\n",
    "plt.plot(stats['En0'], 'k:', label=\"$E(n, 0)$ (trapesmetoden)\")\n",
    "plt.plot(stats['Enn'], 'k',  label=\"$E(n, n)$ (ekstrapolert)\")\n",
    "\n",
    "plt.xlabel(\"Iterasjonar\")\n",
    "plt.ylabel(\"Feilestimat\")\n",
    "\n",
    "plt.yscale('log')\n",
    "plt.xscale('log')\n",
    "\n",
    "plt.xlim(1, 6)\n",
    "\n",
    "plt.xticks([])\n",
    "\n",
    "plt.legend(loc=\"best\")\n",
    "plt.tight_layout()\n",
    "\n",
    "plt.savefig(\"rom_err.pdf\", bbox_inches = 'tight', pad_inches = 0)"
   ]
  },
  {
   "cell_type": "code",
   "execution_count": 22,
   "metadata": {
    "collapsed": true
   },
   "outputs": [
    {
     "data": {
      "image/png": "[encoded data removed]",
      "text/latex": [
       "$$1.9459101490553132$$"
      ],
      "text/plain": [
       "1.9459101490553132"
      ]
     },
     "execution_count": 22,
     "metadata": {},
     "output_type": "execute_result"
    }
   ],
   "source": [
    "np.log(len(stats['Enn']))"
   ]
  },
  {
   "cell_type": "markdown",
   "metadata": {},
   "source": [
    "Avviket $E(n, 0)$ svarar til finare og finare trapes-metode-kvadraturar.\n",
    "$E(n, n)$ kovergerer vesentlig raskare, fordi den brukar informasjon om dei deriverte til funksjonen."
   ]
  },
  {
   "cell_type": "code",
   "execution_count": 13,
   "metadata": {},
   "outputs": [
    {
     "data": {
      "image/png": "[encoded data removed]",
      "text/latex": [
       "$$1.15348595003395e-05$$"
      ],
      "text/plain": [
       "1.15348595003395e-05"
      ]
     },
     "execution_count": 13,
     "metadata": {},
     "output_type": "execute_result"
    }
   ],
   "source": [
    "3/4 - 0.7499884651404997"
   ]
  }
 ],
 "metadata": {
  "kernelspec": {
   "display_name": "Python 3",
   "language": "python",
   "name": "python3"
  },
  "language_info": {
   "codemirror_mode": {
    "name": "ipython",
    "version": 3
   },
   "file_extension": ".py",
   "mimetype": "text/x-python",
   "name": "python",
   "nbconvert_exporter": "python",
   "pygments_lexer": "ipython3",
   "version": "3.6.7"
  }
 },
 "nbformat": 4,
 "nbformat_minor": 2
}
