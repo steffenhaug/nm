{
 "cells": [
  {
   "cell_type": "code",
   "execution_count": 3,
   "metadata": {},
   "outputs": [],
   "source": [
    "import sympy as sp\n",
    "sp.init_printing()\n",
    "\n",
    "import numpy as np"
   ]
  },
  {
   "cell_type": "code",
   "execution_count": 5,
   "metadata": {},
   "outputs": [],
   "source": [
    "xn, yn, zn, A, B, C, x, y, z = sp.symbols('xn yn zn A B C x y z')"
   ]
  },
  {
   "cell_type": "code",
   "execution_count": 11,
   "metadata": {},
   "outputs": [
    {
     "data": {
      "image/png": "[encoded data removed]",
      "text/latex": [
       "$$\\left[\\begin{matrix}A y z - x + xn\\\\B x z - y + yn\\\\C x y - z + zn\\end{matrix}\\right]$$"
      ],
      "text/plain": [
       "⎡A⋅y⋅z - x + xn⎤\n",
       "⎢              ⎥\n",
       "⎢B⋅x⋅z - y + yn⎥\n",
       "⎢              ⎥\n",
       "⎣C⋅x⋅y - z + zn⎦"
      ]
     },
     "execution_count": 11,
     "metadata": {},
     "output_type": "execute_result"
    }
   ],
   "source": [
    "F = sp.Matrix([\n",
    "    xn + A * y * z - x,\n",
    "    yn + B * x * z - y,\n",
    "    zn + C * x * y - z\n",
    "])\n",
    "F"
   ]
  },
  {
   "cell_type": "code",
   "execution_count": 21,
   "metadata": {},
   "outputs": [
    {
     "data": {
      "image/png": "[encoded data removed]",
      "text/latex": [
       "$$\\left[\\begin{matrix}-1 & A z & A y\\\\B z & -1 & B x\\\\C y & C x & -1\\end{matrix}\\right]$$"
      ],
      "text/plain": [
       "⎡-1   A⋅z  A⋅y⎤\n",
       "⎢             ⎥\n",
       "⎢B⋅z  -1   B⋅x⎥\n",
       "⎢             ⎥\n",
       "⎣C⋅y  C⋅x  -1 ⎦"
      ]
     },
     "execution_count": 21,
     "metadata": {},
     "output_type": "execute_result"
    }
   ],
   "source": [
    "Jac = F.jacobian([x, y, z])\n",
    "Jac"
   ]
  }
 ],
 "metadata": {
  "kernelspec": {
   "display_name": "Python 3",
   "language": "python",
   "name": "python3"
  },
  "language_info": {
   "codemirror_mode": {
    "name": "ipython",
    "version": 3
   },
   "file_extension": ".py",
   "mimetype": "text/x-python",
   "name": "python",
   "nbconvert_exporter": "python",
   "pygments_lexer": "ipython3",
   "version": "3.5.2"
  }
 },
 "nbformat": 4,
 "nbformat_minor": 2
}
