{
 "cells": [
  {
   "cell_type": "markdown",
   "metadata": {},
   "source": [
    "# MA2501 - template for code in project 2\n",
    "This is a suggestion for how you can structure the python code."
   ]
  },
  {
   "cell_type": "markdown",
   "metadata": {},
   "source": [
    "## Preparations\n",
    "We must first import some data. In the code below we assume the sound files with the signals are located in audio/mix_1.wav, audio/mix_2.wav, audio/mix_3.wav. You will find these files in the archive Project2.zip together with the python file wav_file_loader.py which is imported in the code below."
   ]
  },
  {
   "cell_type": "code",
   "execution_count": null,
   "metadata": {},
   "outputs": [],
   "source": [
    "\"\"\"In this cell we upload three sound clips which we will use to test the algorithm\"\"\"\n",
    "import numpy as np\n",
    "from wav_file_loader import read_wavefiles\n",
    "\n",
    "paths = ['audio/mix_1.wav', 'audio/mix_2.wav', 'audio/mix_3.wav']\n",
    "data, sampling_rate = read_wavefiles(paths)\n",
    "num_signals = data.shape[0]\n"
   ]
  },
  {
   "cell_type": "code",
   "execution_count": null,
   "metadata": {},
   "outputs": [],
   "source": [
    "\"\"\"In this cell we define a function which normalizes the sound signal volume, \n",
    "so they get approximately the same strength\"\"\"\n",
    "def normalize_audio(data):\n",
    "    \"\"\"Scale amplitude s.t. max(data[i]) == 1.\"\"\"\n",
    "    abs_data = np.absolute(data)\n",
    "    maximums = np.amax(abs_data,1)\n",
    "    # Divide each row by a different vector element:\n",
    "    data = data / maximums.reshape((3,1))\n",
    "    return data\n",
    "\n",
    "data = normalize_audio(data)"
   ]
  },
  {
   "cell_type": "code",
   "execution_count": null,
   "metadata": {},
   "outputs": [],
   "source": [
    "\"\"\"Here you can play the three different sound clips\"\"\"\n",
    "import IPython.display as ipd\n",
    "\n",
    "ipd.display(ipd.Audio(data[0,:], rate=sampling_rate))\n",
    "ipd.display(ipd.Audio(data[1,:], rate=sampling_rate))\n",
    "ipd.display(ipd.Audio(data[2,:], rate=sampling_rate))"
   ]
  },
  {
   "cell_type": "markdown",
   "metadata": {},
   "source": [
    "## Mixing\n",
    "For now you can ignore this part about mixing, including the cell below. Later you can test the algorithm by mixing your own sound clips using the below functions."
   ]
  },
  {
   "cell_type": "code",
   "execution_count": null,
   "metadata": {},
   "outputs": [],
   "source": [
    "def normalize_rowsums(A):\n",
    "    \"\"\"Divide each row in A by its sum.\n",
    "    \n",
    "    The sum of each row in the result is 1.0.\"\"\"\n",
    "    the_sum = np.sum(A,1)\n",
    "    A = A / the_sum.reshape((3,1))\n",
    "    return A\n",
    "\n",
    "def random_mixing_matrix(signals, observations):\n",
    "    \"\"\" Creates a random matrix\n",
    "    \n",
    "    Each element is a small positive number, not too close to 0.\n",
    "    (1/11, 5/7).\n",
    "    \"\"\"\n",
    "    A = 0.25 + np.random.rand(observations, signals)\n",
    "    return normalize_rowsums(A)\n"
   ]
  },
  {
   "cell_type": "code",
   "execution_count": null,
   "metadata": {},
   "outputs": [],
   "source": [
    "A = random_mixing_matrix(num_signals, num_signals)\n",
    "data_mixed = normalize_audio(A @ data)"
   ]
  },
  {
   "cell_type": "code",
   "execution_count": null,
   "metadata": {},
   "outputs": [],
   "source": [
    "import IPython.display as ipd\n",
    "\n",
    "ipd.display(ipd.Audio(data_mixed[0,:], rate=sampling_rate))\n",
    "ipd.display(ipd.Audio(data_mixed[1,:], rate=sampling_rate))\n",
    "ipd.display(ipd.Audio(data_mixed[2,:], rate=sampling_rate))"
   ]
  },
  {
   "cell_type": "markdown",
   "metadata": {},
   "source": [
    "## Preprocessing\n",
    "In the following cell you should write the functions <font color='blue'> center_rows </font> and <font color='blue'> whiten_rows </font> to do the preprocessing which is given in the project description. The variable Z is an array of dimension $d\\times N$ of mixed signals."
   ]
  },
  {
   "cell_type": "code",
   "execution_count": null,
   "metadata": {},
   "outputs": [],
   "source": [
    "def center_rows(Z):\n",
    "    \"\"\"Ensures each row has zero mean.\n",
    "    \n",
    "    Takes a matrix of arbitrary shape and subtracts from each row the mean value of that row.\"\"\"\n",
    "    \n",
    "    # Here goes your code. The code should return a dxN-matrix, say Zc, where each row has zero mean\n",
    "    return Zc, mus\n",
    "\n",
    "def whiten_rows(Z):\n",
    "    \"\"\"Return whitened version of Z and the matrix for the transform, say Zw, T, where Zw=T*Z\n",
    "    \n",
    "    \"\"\"\n",
    "    # Your code goes here.\n",
    "    # Hints: The covariance matrix can be obtained by the function cov in numpy, call it C.\n",
    "    # The following two statements compute T (inverse square root of C).\n",
    "    #U, S, _ = np.linalg.svd(C, full_matrices=False)\n",
    "    #T  = U @ np.diag(1 / np.sqrt(S)) @ U.T\n",
    "    "
   ]
  },
  {
   "cell_type": "markdown",
   "metadata": {},
   "source": [
    "## Main iteration - maximization of non-gaussianity"
   ]
  },
  {
   "cell_type": "code",
   "execution_count": null,
   "metadata": {},
   "outputs": [],
   "source": [
    "def normalize_rownorms(Z):\n",
    "    \"\"\"Divide each row in A by its Euclidean norm.\n",
    "    \n",
    "    The norm of each row in the output is equal to one.\n",
    "    \n",
    "    Your code goes under here. You need to compute the Euclidean norm of each row of the matrix Z\n",
    "    and then scale each row by this norm. \n",
    "    \"\"\"\n",
    "    \n",
    "\n",
    "\n"
   ]
  },
  {
   "cell_type": "code",
   "execution_count": null,
   "metadata": {},
   "outputs": [],
   "source": [
    "def decorrelate_weights(W):\n",
    "    \"\"\" This is the orthogonalization step (or decorrelation step) The dxd input matrix W is projected onto an \n",
    "    orthogonal matrix by the transformation Wd = (WW^T)^{-1} W as described in the note. The single output \n",
    "    argument is the projected W-matrix (Wd)\n",
    "    Hint: Use a similar technque for the inverse square root as in the whitening step\n",
    "    \n",
    "    Your code goes here      \"\"\"\n",
    "    \n",
    "\n"
   ]
  },
  {
   "cell_type": "code",
   "execution_count": null,
   "metadata": {},
   "outputs": [],
   "source": [
    "def update_W(W, Zcw):\n",
    "    \"\"\"Calculates W_k+1 from W_k.\n",
    "    So the input is W=W_k (d x d) as well as the centered, whitened data Zcw (dxN known as tilde{x} in the note)\n",
    "    Output is the new W (W_{k+1}).\n",
    "    \n",
    "    This function does the two iteration steps in the note: The optimisation step and the \n",
    "    orthogonalisation (decorrelation) step. The first step you need to code, the orthogonalisation is already\n",
    "    provided by the function decorrelate_weights that needs to be called.\n",
    "    You can use the kurtosis version, i.e. G(u)=4*(u**3) and its derivative. Don't include the while-loop in \n",
    "    this function\n",
    "    \"\"\"\n",
    "    "
   ]
  },
  {
   "cell_type": "code",
   "execution_count": null,
   "metadata": {},
   "outputs": [],
   "source": [
    "def measure_of_convergence(W1, W2):\n",
    "    \"\"\"This function computes an error estimate for the maximisation iteration, it computes the convergence\n",
    "    criterion given in the note. \n",
    "    Input: W1 is the previous iterate, and W2 is the one just computed.\n",
    "    Output: The quantity delta defined in the note.\n",
    "    Typical numpy-functions to use: numpy.sum, numpy.absolute, numpy.amax.\n",
    "    \n",
    "    Your code goes here:\n",
    "    \"\"\"\n",
    "     "
   ]
  },
  {
   "cell_type": "code",
   "execution_count": null,
   "metadata": {},
   "outputs": [],
   "source": [
    "import warnings\n",
    "\n",
    "\n",
    "def fast_ICA(Z, signals_to_find, tol=1e-10, max_iter=100):\n",
    "    \"\"\" This is the function that organises all the work.\n",
    "    \n",
    "    Input: Z is the unprocessed data\n",
    "           signals_to_find: in our case, always d the number of sources\n",
    "           tol is the tolerance, default value 1.0e-10\n",
    "           max_iter abort after max_iter iterations if not converged, (to avoid infinite loop)\n",
    "    Output: Z_ica, the separated signals (dxN matrix, approximating the sources)\n",
    "            W The final converged W-matrix (dxd)\n",
    "            Also some other variables of interest can be returned if desired\n",
    "    \"\"\"\n",
    "    # center the rows of Z\n",
    "    # whiten the centered rows\n",
    "    # Put W_0 = W to a random initial value and normalise the rows to length 1\n",
    "    # Initialise some variables to prepare for the while-loop (such as delta)\n",
    "    # while delta>tol and number_of_iterations < max_iter:\n",
    "    #      do an iteration to get a new W-iterate \n",
    "    #      Compute the error estimate to update delta\n",
    "    # Clean up, check if converged or max_iter attained\n",
    "    \n"
   ]
  }
 ],
 "metadata": {
  "kernelspec": {
   "display_name": "Python 3",
   "language": "python",
   "name": "python3"
  },
  "language_info": {
   "codemirror_mode": {
    "name": "ipython",
    "version": 3
   },
   "file_extension": ".py",
   "mimetype": "text/x-python",
   "name": "python",
   "nbconvert_exporter": "python",
   "pygments_lexer": "ipython3",
   "version": "3.7.0"
  },
  "toc": {
   "base_numbering": 1,
   "nav_menu": {},
   "number_sections": true,
   "sideBar": true,
   "skip_h1_title": true,
   "title_cell": "Table of Contents",
   "title_sidebar": "Contents",
   "toc_cell": false,
   "toc_position": {},
   "toc_section_display": true,
   "toc_window_display": false
  }
 },
 "nbformat": 4,
 "nbformat_minor": 2
}
