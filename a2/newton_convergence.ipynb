{
 "cells": [
  {
   "cell_type": "code",
   "execution_count": 1,
   "metadata": {},
   "outputs": [],
   "source": [
    "from src.alg import solve, last"
   ]
  },
  {
   "cell_type": "code",
   "execution_count": 2,
   "metadata": {},
   "outputs": [],
   "source": [
    "from matplotlib import cm\n",
    "import matplotlib as mpl\n",
    "\n",
    "mpl.use('pgf')\n",
    "\n",
    "import matplotlib.pyplot as plt\n",
    "plt.style.use('classic')\n",
    "\n",
    "\n",
    "pgf_with_rc_fonts = {\n",
    "    \"font.family\": \"serif\",\n",
    "    \"text.usetex\": True,\n",
    "    \"pgf.texsystem\": \"xelatex\",\n",
    "    \"pgf.rcfonts\": False,\n",
    "    \"pgf.preamble\": [\n",
    "        r\"\\usepackage{unicode-math}\",\n",
    "        r\"\\setmainfont{EB Garamond}\",\n",
    "        r\"\\setmonofont{Courier New}\",\n",
    "        r\"\\setmathfont{Garamond-Math}\",\n",
    "    ]\n",
    "}\n",
    "mpl.rcParams.update(pgf_with_rc_fonts)\n",
    "\n",
    "import numpy as np\n",
    "from numpy import linalg as LA"
   ]
  },
  {
   "cell_type": "code",
   "execution_count": 3,
   "metadata": {},
   "outputs": [],
   "source": [
    "def F(x, y):\n",
    "    return x**2 + y**2 - 2, x - y"
   ]
  },
  {
   "cell_type": "code",
   "execution_count": 4,
   "metadata": {},
   "outputs": [],
   "source": [
    "approximations = list(solve(F, (50, 75), tol=1e-15))"
   ]
  },
  {
   "cell_type": "code",
   "execution_count": 5,
   "metadata": {},
   "outputs": [
    {
     "data": {
      "text/plain": [
       "[(32.508, 32.508),\n",
       " (16.269380829334317, 16.269380829334317),\n",
       " (8.165422991723716, 8.165422991723716),\n",
       " (4.143945310755071, 4.143945310755071),\n",
       " (2.1926306183825766, 2.1926306183825766),\n",
       " (1.3243518949290318, 1.3243518949290318),\n",
       " (1.0397191079451324, 1.0397191079451324),\n",
       " (1.0007586700695899, 1.0007586700695899),\n",
       " (1.000000287571965, 1.000000287571965),\n",
       " (1.0000000000000413, 1.0000000000000413),\n",
       " (1.0, 1.0)]"
      ]
     },
     "execution_count": 5,
     "metadata": {},
     "output_type": "execute_result"
    }
   ],
   "source": [
    "approximations"
   ]
  },
  {
   "cell_type": "code",
   "execution_count": 6,
   "metadata": {},
   "outputs": [
    {
     "data": {
      "text/plain": [
       "(list, numpy.float64, 10)"
      ]
     },
     "execution_count": 6,
     "metadata": {},
     "output_type": "execute_result"
    }
   ],
   "source": [
    "def pairs(L):\n",
    "    yield from zip(L[1:], L)\n",
    "    \n",
    "def diffs(it):\n",
    "    for (xn, yn), (xm, ym) in pairs(it):\n",
    "        yield (xn - xm, yn - ym)\n",
    "\n",
    "def norms(vs):\n",
    "    for v in vs: yield LA.norm(v)\n",
    "    \n",
    "norms_of_diffs = list(norms(diffs(approximations)))\n",
    "\n",
    "type(norms_of_diffs), type(norms_of_diffs[0]), len(norms_of_diffs)"
   ]
  },
  {
   "cell_type": "code",
   "execution_count": 7,
   "metadata": {},
   "outputs": [
    {
     "data": {
      "text/plain": [
       "(list, numpy.float64, 11)"
      ]
     },
     "execution_count": 7,
     "metadata": {},
     "output_type": "execute_result"
    }
   ],
   "source": [
    "f_norms = [LA.norm(F(x, y)) for x, y in approximations]\n",
    "\n",
    "type(f_norms), type(f_norms[0]), len(f_norms)"
   ]
  },
  {
   "cell_type": "code",
   "execution_count": 8,
   "metadata": {},
   "outputs": [],
   "source": [
    "fig = plt.figure()\n",
    "ax = fig.add_subplot(111)\n",
    "ax.set_yscale('log')\n",
    "\n",
    "xs = [x for x in range(len(f_norms))]\n",
    "\n",
    "ax.plot(\n",
    "    xs[:-1], \n",
    "    f_norms[:-1],\n",
    "    marker='o', color='k',\n",
    "    label=\"\\scshape Newton\", \n",
    "    mfc=cm.viridis(0.875),\n",
    "    ms = 7,\n",
    ")\n",
    "\n",
    "ax.set_xlabel(\"\\scshape Iterations\")\n",
    "ax.set_ylabel(\"\\scshape Error\")\n",
    "\n",
    "ax.legend()\n",
    "\n",
    "fig.savefig(\"f_norms.pdf\")\n",
    "\n",
    "##########################################################\n",
    "\n",
    "fig = plt.figure()\n",
    "ax = fig.add_subplot(111)\n",
    "ax.set_yscale('log')\n",
    "\n",
    "xs = [x for x in range(len(norms_of_diffs))]\n",
    "\n",
    "ax.plot(\n",
    "    xs,\n",
    "    norms_of_diffs,\n",
    "    marker='o', color='k',\n",
    "    label=\"\\scshape Newton\", \n",
    "    mfc=cm.viridis(0.125),\n",
    "    ms = 7,\n",
    ")\n",
    "\n",
    "\n",
    "ax.set_xlabel(\"\\scshape Iterations\")\n",
    "ax.set_ylabel(\"\\scshape Error\")\n",
    "\n",
    "ax.legend()\n",
    "\n",
    "fig.savefig(\"diff_norms.pdf\")"
   ]
  },
  {
   "cell_type": "code",
   "execution_count": 9,
   "metadata": {},
   "outputs": [],
   "source": [
    "appr_pos = list(solve(F, (100, 0), tol=1e-15))\n",
    "appr_neg = list(solve(F, (-100, 0), tol=1e-15))\n",
    "xpo, ypo = list(zip(*appr_pos))\n",
    "xne, yne = list(zip(*appr_neg))\n",
    "\n",
    "fig = plt.figure()\n",
    "ax = fig.add_subplot(111)\n",
    "\n",
    "# plot x = y\n",
    "xs = np.linspace(0, 100, 100)\n",
    "ys = xs\n",
    "ax.plot(\n",
    "    xs, ys, \"gray\",\n",
    "    linewidth=1,\n",
    "    label=\"$x = y$\"\n",
    ")\n",
    "\n",
    "ax.plot(\n",
    "    xpo, ypo, 'o',\n",
    "    color=cm.viridis(0.4),\n",
    "    label=r\"{\\scshape Conv.} $\\longrightarrow (1, 1)$\"\n",
    ")\n",
    "\n",
    "ax.legend(loc=\"upper left\")\n",
    "\n",
    "fig.savefig(\"conv_pos.pdf\")\n",
    "\n",
    "\n",
    "fig = plt.figure()\n",
    "ax = fig.add_subplot(111)\n",
    "\n",
    "# plot x = y\n",
    "xs = np.linspace(-100, 0, 100)\n",
    "ys = xs\n",
    "ax.plot(\n",
    "    xs, ys, \"gray\",\n",
    "    linewidth=1,\n",
    "    label=\"$x = y$\"\n",
    ")\n",
    "\n",
    "ax.plot(\n",
    "    xne, yne, 'o',\n",
    "    color=cm.viridis(0.8),\n",
    "    label=r\"{\\scshape Conv.} $\\longrightarrow (-1, -1)$\"\n",
    ")\n",
    "\n",
    "ax.legend(loc=\"upper left\")\n",
    "\n",
    "fig.savefig(\"conv_neg.pdf\")"
   ]
  },
  {
   "cell_type": "code",
   "execution_count": 10,
   "metadata": {},
   "outputs": [],
   "source": [
    "appr_pos = list(solve(F, (50, 0), tol=1e-15))\n",
    "appr_neg = list(solve(F, (-50, 0), tol=1e-15))\n",
    "xpo, ypo = list(zip(*appr_pos))\n",
    "xne, yne = list(zip(*appr_neg))\n",
    "\n",
    "fig = plt.figure()\n",
    "ax = fig.add_subplot(111)\n",
    "\n",
    "# plot x = y\n",
    "xs = np.linspace(-50, 50, 100)\n",
    "ys = xs\n",
    "ax.plot(\n",
    "    xs, ys, linestyle=\":\", color=\"gray\",\n",
    "    linewidth=1,\n",
    "    label=\"$x = y$\"\n",
    ")\n",
    "\n",
    "# the algorithm does not return the starting point\n",
    "# (what would be the point of that? you already know it)\n",
    "# so i add it back manually for the sake of the plot.\n",
    "ax.plot(\n",
    "    [50] + list(xpo),\n",
    "    [0] + list(ypo),\n",
    "    'o',\n",
    "    color=cm.viridis(0.125),\n",
    "    label=r\"{\\scshape Conv.} $\\longrightarrow (1, 1)$\"\n",
    ")\n",
    "\n",
    "ax.plot(\n",
    "    [-50] + list(xne), \n",
    "    [0] + list(yne), \n",
    "    'o',\n",
    "    color=cm.viridis(0.875),\n",
    "    label=r\"{\\scshape Conv.} $\\longrightarrow (-1, -1)$\"\n",
    ")\n",
    "\n",
    "ax.legend(loc=\"upper left\")\n",
    "\n",
    "fig.savefig(\"conv_pn.pdf\")\n"
   ]
  }
 ],
 "metadata": {
  "kernelspec": {
   "display_name": "Python 3",
   "language": "python",
   "name": "python3"
  },
  "language_info": {
   "codemirror_mode": {
    "name": "ipython",
    "version": 3
   },
   "file_extension": ".py",
   "mimetype": "text/x-python",
   "name": "python",
   "nbconvert_exporter": "python",
   "pygments_lexer": "ipython3",
   "version": "3.6.7"
  }
 },
 "nbformat": 4,
 "nbformat_minor": 2
}
