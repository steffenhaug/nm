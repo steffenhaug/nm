{
 "cells": [
  {
   "cell_type": "code",
   "execution_count": 1,
   "metadata": {},
   "outputs": [],
   "source": [
    "\n",
    "\n",
    "from scipy.optimize import root\n",
    "\n",
    "from src.alg import solve, last\n",
    "\n",
    "from matplotlib import cm\n",
    "import matplotlib as mpl\n",
    "mpl.use('pgf')\n",
    "\n",
    "from matplotlib.ticker import MultipleLocator\n",
    "\n",
    "import matplotlib.pyplot as plt\n",
    "plt.style.use('classic')\n",
    "\n",
    "pgf_with_rc_fonts = {\n",
    "    \"font.family\": \"serif\",\n",
    "    \"text.usetex\": True,\n",
    "    \"pgf.texsystem\": \"xelatex\",\n",
    "    \"pgf.rcfonts\": False,\n",
    "    \"pgf.preamble\": [\n",
    "        r\"\\usepackage{unicode-math}\",\n",
    "        r\"\\setmainfont{EB Garamond}\",\n",
    "        r\"\\setmonofont{Courier New}\",\n",
    "        r\"\\setmathfont{Garamond-Math}\",\n",
    "    ]\n",
    "}\n",
    "mpl.rcParams.update(pgf_with_rc_fonts)\n",
    "\n",
    "import numpy as np\n",
    "from numpy import linalg as LA"
   ]
  },
  {
   "cell_type": "code",
   "execution_count": 10,
   "metadata": {},
   "outputs": [],
   "source": [
    "MAX_ITER = 10\n",
    "\n",
    "def newton(z, f, fprime, tol=1e-6):\n",
    "    for i in range(MAX_ITER):\n",
    "        step = f(z)/fprime(z)\n",
    "        if abs(step) < tol:\n",
    "            return i, z\n",
    "        z -= step\n",
    "    return i, z"
   ]
  },
  {
   "cell_type": "code",
   "execution_count": 3,
   "metadata": {},
   "outputs": [],
   "source": [
    "R = 2\n",
    "\n",
    "def F(z): return z**3 - 1\n",
    "\n",
    "def dFdz(z): return 3*z**2\n",
    "\n",
    "def lerp(v0, v1, t):\n",
    "    return v0 + t / v1\n",
    "\n",
    "def color(i, z):\n",
    "    x, y = z.real, z.imag\n",
    "    # set the \"base\"-color\n",
    "    if x > 0: \n",
    "        col = 0.0\n",
    "    else:\n",
    "        if y > 0:\n",
    "            col = 0.33\n",
    "        else:\n",
    "            col = 0.66\n",
    "    # map the number of iterations it took to converge\n",
    "    # to (0, 0.33)\n",
    "    col += 0.33 * lerp(0, 10, i)\n",
    "    return col\n",
    "\n",
    "def color2(i, z):\n",
    "    x, y = z.real, z.imag\n",
    "    # set the \"base\"-color\n",
    "    if x > 0: \n",
    "        col = 0.33\n",
    "    else:\n",
    "        if y > 0:\n",
    "            col = 0.66\n",
    "        else:\n",
    "            col = 1.00\n",
    "    # map the number of iterations it took to converge\n",
    "    # to (0, 0.33)\n",
    "    col -= 0.33 * lerp(0, 10, i)\n",
    "    return col"
   ]
  },
  {
   "cell_type": "code",
   "execution_count": 4,
   "metadata": {},
   "outputs": [],
   "source": [
    "n = 500\n",
    "\n",
    "M = np.zeros((n,n))\n",
    "\n",
    "xs = np.linspace(-R, R, n)\n",
    "ys = np.linspace(-R, R, n)\n",
    "\n",
    "for i, y in enumerate(xs):\n",
    "    for j, x in enumerate(ys):\n",
    "        z = x + y*1j\n",
    "        M[i, j] = color(*newton(z, F, dFdz))"
   ]
  },
  {
   "cell_type": "code",
   "execution_count": 5,
   "metadata": {},
   "outputs": [],
   "source": [
    "fig = plt.figure()\n",
    "ax = fig.add_subplot(111)\n",
    "plt.imshow(\n",
    "    M,\n",
    "    cmap=cm.viridis,\n",
    "    vmin = 0.0,\n",
    "    vmax = 1.0,\n",
    "    aspect='equal',\n",
    "    extent=[-R, R, -R, R],\n",
    ")\n",
    "\n",
    "fig.savefig(\"basins.pdf\", pad_inches=0, bbox_inches='tight')"
   ]
  },
  {
   "cell_type": "code",
   "execution_count": 6,
   "metadata": {},
   "outputs": [],
   "source": [
    "n = 500\n",
    "\n",
    "M = np.zeros((n,n))\n",
    "\n",
    "xs = np.linspace(-R, R, n)\n",
    "ys = np.linspace(-R, R, n)\n",
    "\n",
    "for i, y in enumerate(xs):\n",
    "    for j, x in enumerate(ys):\n",
    "        z = x + y*1j\n",
    "        M[i, j] = color2(*newton(z, F, dFdz))"
   ]
  },
  {
   "cell_type": "code",
   "execution_count": 9,
   "metadata": {},
   "outputs": [],
   "source": [
    "fig = plt.figure()\n",
    "ax = fig.add_subplot(111)\n",
    "plt.imshow(\n",
    "    M,\n",
    "    cmap=cm.viridis,\n",
    "    vmin = 0.0,\n",
    "    vmax = 1.0,\n",
    "    aspect='equal',\n",
    "    extent=[-R, R, -R, R],\n",
    ")\n",
    "\n",
    "fig.savefig(\"basins_rev.pdf\", pad_inches=0, bbox_inches='tight')"
   ]
  }
 ],
 "metadata": {
  "kernelspec": {
   "display_name": "Python 3",
   "language": "python",
   "name": "python3"
  },
  "language_info": {
   "codemirror_mode": {
    "name": "ipython",
    "version": 3
   },
   "file_extension": ".py",
   "mimetype": "text/x-python",
   "name": "python",
   "nbconvert_exporter": "python",
   "pygments_lexer": "ipython3",
   "version": "3.6.7"
  }
 },
 "nbformat": 4,
 "nbformat_minor": 2
}
