{
 "cells": [
  {
   "cell_type": "code",
   "execution_count": 1,
   "metadata": {},
   "outputs": [],
   "source": [
    "from src.alg import solve_nd, sample, last\n",
    "from src.alg import A as gen_A\n",
    "import numpy as np\n",
    "import numpy.linalg as LA\n",
    "\n",
    "from matplotlib import cm\n",
    "import matplotlib as mpl\n",
    "\n",
    "mpl.use('pgf')\n",
    "\n",
    "import matplotlib.pyplot as plt\n",
    "plt.style.use('classic')\n",
    "\n",
    "\n",
    "pgf_with_rc_fonts = {\n",
    "    \"font.family\": \"serif\",\n",
    "    \"text.usetex\": True,\n",
    "    \"pgf.texsystem\": \"xelatex\",\n",
    "    \"pgf.rcfonts\": False,\n",
    "    \"pgf.preamble\": [\n",
    "        r\"\\usepackage{unicode-math}\",\n",
    "        r\"\\setmainfont{EB Garamond}\",\n",
    "        r\"\\setmonofont{Courier New}\",\n",
    "        r\"\\setmathfont{Garamond-Math}\",\n",
    "    ]\n",
    "}\n",
    "mpl.rcParams.update(pgf_with_rc_fonts)"
   ]
  },
  {
   "cell_type": "code",
   "execution_count": 2,
   "metadata": {},
   "outputs": [],
   "source": [
    "n = 10\n",
    "k = 1/100\n",
    "\n",
    "\n",
    "def F(x,y):\n",
    "    return np.exp(-50 * ((x - 1/2)**2 + (y - 1/2)**2))\n",
    "\n",
    "f = sample(F, n)"
   ]
  },
  {
   "cell_type": "code",
   "execution_count": 3,
   "metadata": {},
   "outputs": [],
   "source": [
    "A = gen_A(k, n)"
   ]
  },
  {
   "cell_type": "code",
   "execution_count": 4,
   "metadata": {},
   "outputs": [],
   "source": [
    "j     = list(solve_nd(A, f, method=\"J\"))\n",
    "gs    = list(solve_nd(A, f, method=\"GS\"))\n",
    "sor   = list(solve_nd(A, f, method=\"SOR\", omega=0.5))\n",
    "sor75 = list(solve_nd(A, f, method=\"SOR\", omega=0.75))\n",
    "sor25 = list(solve_nd(A, f, method=\"SOR\", omega=0.25))"
   ]
  },
  {
   "cell_type": "code",
   "execution_count": 5,
   "metadata": {},
   "outputs": [],
   "source": [
    "def right(it):\n",
    "    for _, x in it: yield x\n",
    "\n",
    "def relative_residual(appr):\n",
    "    # we need a list, because we can't peek iterators\n",
    "    assert type(appr) == list\n",
    "    a = LA.norm(appr[0][1])\n",
    "    for r in right(iter(appr)):\n",
    "        yield LA.norm(r) / a"
   ]
  },
  {
   "cell_type": "code",
   "execution_count": 17,
   "metadata": {},
   "outputs": [],
   "source": [
    "jrrs = list(relative_residual(j))\n",
    "grrs = list(relative_residual(gs))\n",
    "srrs = list(relative_residual(sor))\n",
    "srrs25 = list(relative_residual(sor25))\n",
    "srrs75 = list(relative_residual(sor75))\n",
    "\n",
    "assert len(jrrs) == len(grrs) == len(srrs)\n",
    "\n",
    "fig = plt.figure()\n",
    "ax = fig.add_subplot(111)\n",
    "ax.set_yscale('log')\n",
    "\n",
    "xs = list(range(len(jrrs)))\n",
    "\n",
    "ax.plot(\n",
    "    xs,\n",
    "    jrrs,\n",
    "    label=\"\\scshape Jacobi\", \n",
    "    color=cm.viridis(0.125),\n",
    ")\n",
    "\n",
    "ax.plot(\n",
    "    xs,\n",
    "    srrs25,\n",
    "    label=\"\\scshape S. O. R. $(\\omega = 0.25)$\", \n",
    "    color=cm.viridis(0.6),\n",
    ")\n",
    "\n",
    "ax.plot(\n",
    "    xs,\n",
    "    srrs,\n",
    "    label=\"\\scshape S. O. R. $(\\omega = 0.50)$\", \n",
    "    color=cm.viridis(0.7),\n",
    ")\n",
    "\n",
    "\n",
    "ax.plot(\n",
    "    xs,\n",
    "    srrs75,\n",
    "    label=\"\\scshape S. O. R. $(\\omega = 0.75)$\", \n",
    "    color=cm.viridis(0.8),\n",
    ")\n",
    "\n",
    "ax.plot(\n",
    "    xs,\n",
    "    grrs,\n",
    "    label=\"\\scshape Gauss-Seidel\", \n",
    "    color=cm.viridis(0.875),\n",
    ")\n",
    "\n",
    "ax.set_xlabel(\"\\scshape Iterations\")\n",
    "ax.set_ylabel(\"\\scshape Residual\")\n",
    "\n",
    "ax.legend()\n",
    "\n",
    "fig.savefig(\"residual.pdf\")"
   ]
  },
  {
   "cell_type": "code",
   "execution_count": 15,
   "metadata": {},
   "outputs": [
    {
     "data": {
      "text/plain": [
       "3.999999"
      ]
     },
     "execution_count": 15,
     "metadata": {},
     "output_type": "execute_result"
    }
   ],
   "source": [
    "from src.alg import jacobi_mat, gs_mat, sor_mat, spectral_radius\n",
    "\n",
    "spectral_radius(sor_mat(A, omega=1.0))"
   ]
  }
 ],
 "metadata": {
  "kernelspec": {
   "display_name": "Python 3",
   "language": "python",
   "name": "python3"
  },
  "language_info": {
   "codemirror_mode": {
    "name": "ipython",
    "version": 3
   },
   "file_extension": ".py",
   "mimetype": "text/x-python",
   "name": "python",
   "nbconvert_exporter": "python",
   "pygments_lexer": "ipython3",
   "version": "3.6.7"
  }
 },
 "nbformat": 4,
 "nbformat_minor": 2
}
