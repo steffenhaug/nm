{
 "cells": [
  {
   "cell_type": "code",
   "execution_count": 1,
   "metadata": {},
   "outputs": [],
   "source": [
    "import src.alg as alg"
   ]
  },
  {
   "cell_type": "code",
   "execution_count": 1,
   "metadata": {},
   "outputs": [],
   "source": [
    "from mpl_toolkits.mplot3d import Axes3D\n",
    "from matplotlib import cm\n",
    "import matplotlib as mpl\n",
    "mpl.use('pgf')\n",
    "\n",
    "from matplotlib.ticker import MultipleLocator\n",
    "\n",
    "import matplotlib.pyplot as plt\n",
    "plt.style.use('classic')\n",
    "\n",
    "pgf_with_rc_fonts = {\n",
    "    \"font.family\": \"serif\",\n",
    "    \"text.usetex\": True,\n",
    "    \"pgf.texsystem\": \"xelatex\",\n",
    "    \"pgf.rcfonts\": False,\n",
    "    \"pgf.preamble\": [\n",
    "        r\"\\usepackage{fourier}\",\n",
    "        r\"\\usepackage{xltxtra}\",\n",
    "        r\"\\setmainfont{EB Garamond}\",\n",
    "    ]\n",
    "}\n",
    "mpl.rcParams.update(pgf_with_rc_fonts)\n",
    "\n",
    "import numpy as np"
   ]
  },
  {
   "cell_type": "code",
   "execution_count": 118,
   "metadata": {},
   "outputs": [],
   "source": [
    "def f(x,y):\n",
    "    return np.exp(-50 * ((x - 1/2)**2 + (y - 1/2)**2))"
   ]
  },
  {
   "cell_type": "code",
   "execution_count": 127,
   "metadata": {},
   "outputs": [],
   "source": [
    "n = 35\n",
    "\n",
    "x = np.linspace(0, 1, n)\n",
    "y = np.linspace(0, 1, n)\n",
    "x, y = np.meshgrid(x, y)\n",
    "\n",
    "z = f(x, y)"
   ]
  },
  {
   "cell_type": "code",
   "execution_count": 128,
   "metadata": {},
   "outputs": [
    {
     "name": "stderr",
     "output_type": "stream",
     "text": [
      "/home/xfcebspwm/.local/lib/python3.6/site-packages/matplotlib/pyplot.py:522: RuntimeWarning: More than 20 figures have been opened. Figures created through the pyplot interface (`matplotlib.pyplot.figure`) are retained until explicitly closed and may consume too much memory. (To control this warning, see the rcParam `figure.max_open_warning`).\n",
      "  max_open_warning, RuntimeWarning)\n"
     ]
    },
    {
     "data": {
      "text/plain": [
       "(-1, 1)"
      ]
     },
     "execution_count": 128,
     "metadata": {},
     "output_type": "execute_result"
    }
   ],
   "source": [
    "fig = plt.figure()\n",
    "ax = fig.add_subplot(111, projection='3d')\n",
    "ax.set_proj_type('ortho')\n",
    "ax.plot_surface(\n",
    "    x, y, z, \n",
    "    cmap=cm.viridis,\n",
    "    rstride=1,\n",
    "    cstride=1,\n",
    "    linewidth=.5,\n",
    ")\n",
    "\n",
    "[t.set_va('center') for t in ax.get_yticklabels()]\n",
    "[t.set_ha('center') for t in ax.get_yticklabels()]\n",
    "\n",
    "[t.set_va('center') for t in ax.get_xticklabels()]\n",
    "[t.set_ha('center') for t in ax.get_xticklabels()]\n",
    "\n",
    "[t.set_va('center') for t in ax.get_zticklabels()]\n",
    "[t.set_ha('right')  for t in ax.get_zticklabels()]\n",
    "\n",
    "ax.xaxis._axinfo['tick']['inward_factor'] = 0.1\n",
    "ax.xaxis._axinfo['tick']['outward_factor'] = 0.1\n",
    "ax.yaxis._axinfo['tick']['inward_factor'] = 0.1\n",
    "ax.yaxis._axinfo['tick']['outward_factor'] = 0.1\n",
    "ax.zaxis._axinfo['tick']['inward_factor'] = 0.1\n",
    "ax.zaxis._axinfo['tick']['outward_factor'] = 0.1\n",
    "ax.zaxis._axinfo['tick']['outward_factor'] = 0.1\n",
    "\n",
    "ax.xaxis.set_major_locator(MultipleLocator(1/2))\n",
    "ax.yaxis.set_major_locator(MultipleLocator(1/2))\n",
    "\n",
    "ax.zaxis.set_major_locator(MultipleLocator(1))\n",
    "\n",
    "ax.grid(False)\n",
    "plt.grid(linestyle='dotted')\n",
    "\n",
    "ax.view_init(70, 45)\n",
    "# Customize the z axis.\n",
    "ax.set_zlim(-1, 1)"
   ]
  },
  {
   "cell_type": "code",
   "execution_count": 129,
   "metadata": {},
   "outputs": [],
   "source": [
    "fig.savefig(\"plot_fxy.pdf\")"
   ]
  },
  {
   "cell_type": "code",
   "execution_count": null,
   "metadata": {},
   "outputs": [],
   "source": []
  }
 ],
 "metadata": {
  "kernelspec": {
   "display_name": "Python 3",
   "language": "python",
   "name": "python3"
  },
  "language_info": {
   "codemirror_mode": {
    "name": "ipython",
    "version": 3
   },
   "file_extension": ".py",
   "mimetype": "text/x-python",
   "name": "python",
   "nbconvert_exporter": "python",
   "pygments_lexer": "ipython3",
   "version": "3.6.7"
  }
 },
 "nbformat": 4,
 "nbformat_minor": 2
}
