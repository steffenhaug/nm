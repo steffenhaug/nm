{
 "cells": [
  {
   "cell_type": "code",
   "execution_count": 1,
   "metadata": {},
   "outputs": [],
   "source": [
    "from src.alg import solve, last"
   ]
  },
  {
   "cell_type": "code",
   "execution_count": 2,
   "metadata": {},
   "outputs": [],
   "source": [
    "from matplotlib import cm\n",
    "import matplotlib as mpl\n",
    "\n",
    "mpl.use('pgf')\n",
    "\n",
    "import matplotlib.pyplot as plt\n",
    "plt.style.use('classic')\n",
    "\n",
    "\n",
    "pgf_with_rc_fonts = {\n",
    "    \"font.family\": \"serif\",\n",
    "    \"text.usetex\": True,\n",
    "    \"pgf.texsystem\": \"xelatex\",\n",
    "    \"pgf.rcfonts\": False,\n",
    "    \"pgf.preamble\": [\n",
    "        r\"\\usepackage{unicode-math}\",\n",
    "        r\"\\setmainfont{EB Garamond}\",\n",
    "        r\"\\setmonofont{Courier New}\",\n",
    "        r\"\\setmathfont{STIX Two Math}\",\n",
    "    ]\n",
    "}\n",
    "mpl.rcParams.update(pgf_with_rc_fonts)\n",
    "\n",
    "import numpy as np\n",
    "from numpy import linalg as LA"
   ]
  },
  {
   "cell_type": "code",
   "execution_count": 3,
   "metadata": {},
   "outputs": [],
   "source": [
    "def F(x, y):\n",
    "    return x**2 + y**2 - 2, x - y"
   ]
  },
  {
   "cell_type": "code",
   "execution_count": 4,
   "metadata": {},
   "outputs": [],
   "source": [
    "approximations = list(solve(F, (50, 75), tol=1e-15))"
   ]
  },
  {
   "cell_type": "code",
   "execution_count": 5,
   "metadata": {},
   "outputs": [
    {
     "data": {
      "text/plain": [
       "[(32.508, 32.508),\n",
       " (16.269380829334317, 16.269380829334317),\n",
       " (8.165422991723716, 8.165422991723716),\n",
       " (4.143945310755071, 4.143945310755071),\n",
       " (2.1926306183825766, 2.1926306183825766),\n",
       " (1.3243518949290318, 1.3243518949290318),\n",
       " (1.0397191079451324, 1.0397191079451324),\n",
       " (1.0007586700695899, 1.0007586700695899),\n",
       " (1.000000287571965, 1.000000287571965),\n",
       " (1.0000000000000413, 1.0000000000000413),\n",
       " (1.0, 1.0)]"
      ]
     },
     "execution_count": 5,
     "metadata": {},
     "output_type": "execute_result"
    }
   ],
   "source": [
    "approximations"
   ]
  },
  {
   "cell_type": "code",
   "execution_count": 6,
   "metadata": {},
   "outputs": [
    {
     "name": "stdout",
     "output_type": "stream",
     "text": [
      "0.021731213640030066\n",
      "0.0432988457489131\n",
      "0.0853180638450203\n",
      "0.1612462161337859\n",
      "0.26696332896644487\n",
      "0.340047026058822\n",
      "0.3532853635620013\n",
      "0.3535532888634611\n",
      "0.35313861296699073\n"
     ]
    }
   ],
   "source": [
    "def pairs(L):\n",
    "    yield from zip(L[1:], L)\n",
    "    \n",
    "def diffs(it):\n",
    "    for (xn, yn), (xm, ym) in pairs(it):\n",
    "        yield (xn - xm, yn - ym)\n",
    "\n",
    "def norms(vs):\n",
    "    for v in vs: yield LA.norm(v)\n",
    "    \n",
    "norms_of_diffs = list(norms(diffs(approximations)))\n",
    "\n",
    "for x, y in pairs(norms_of_diffs):\n",
    "    print(x/y**2)"
   ]
  },
  {
   "cell_type": "code",
   "execution_count": 7,
   "metadata": {},
   "outputs": [
    {
     "data": {
      "text/plain": [
       "([2111.5401280000005,\n",
       "  527.3855051398219,\n",
       "  131.34826526754057,\n",
       "  32.344565477057884,\n",
       "  7.61525805733752,\n",
       "  1.5078158832042345,\n",
       "  0.16203164685244387,\n",
       "  0.0030358314389085095,\n",
       "  1.150288024831525e-06,\n",
       "  1.652011860642233e-13,\n",
       "  0.0],\n",
       " [22.964875465367154,\n",
       "  11.460727082848653,\n",
       "  5.68722827720656,\n",
       "  2.759575702411065,\n",
       "  1.227931546628001,\n",
       "  0.40253154764868265,\n",
       "  0.055098379639586754,\n",
       "  0.0010725148136075762,\n",
       "  4.0668811452314664e-07,\n",
       "  5.840743946303644e-14])"
      ]
     },
     "execution_count": 7,
     "metadata": {},
     "output_type": "execute_result"
    }
   ],
   "source": [
    "f_norms    = [LA.norm(F(x, y)) for x, y in approximations]\n",
    "\n",
    "f_norms, norms_of_diffs"
   ]
  },
  {
   "cell_type": "code",
   "execution_count": 8,
   "metadata": {},
   "outputs": [
    {
     "data": {
      "image/png": "[encoded data removed]",
      "text/plain": [
       "<Figure size 432x288 with 1 Axes>"
      ]
     },
     "metadata": {
      "needs_background": "light"
     },
     "output_type": "display_data"
    }
   ],
   "source": [
    "fig = plt.figure()\n",
    "ax = fig.add_subplot(111)\n",
    "ax.set_yscale('log')\n",
    "\n",
    "xs = [x for x in range(len(f_norms))]\n",
    "\n",
    "ax.plot(\n",
    "    xs, \n",
    "    f_norms, \n",
    "    label=\"newton\", \n",
    "    color=cm.viridis(0.2),\n",
    "    linewidth=2\n",
    ")\n",
    "\n",
    "ax.legend()\n",
    "\n",
    "fig.savefig(\"f_norms.pdf\")"
   ]
  },
  {
   "cell_type": "code",
   "execution_count": null,
   "metadata": {},
   "outputs": [],
   "source": []
  },
  {
   "cell_type": "code",
   "execution_count": null,
   "metadata": {},
   "outputs": [],
   "source": []
  }
 ],
 "metadata": {
  "kernelspec": {
   "display_name": "Python 3",
   "language": "python",
   "name": "python3"
  },
  "language_info": {
   "codemirror_mode": {
    "name": "ipython",
    "version": 3
   },
   "file_extension": ".py",
   "mimetype": "text/x-python",
   "name": "python",
   "nbconvert_exporter": "python",
   "pygments_lexer": "ipython3",
   "version": "3.6.7"
  }
 },
 "nbformat": 4,
 "nbformat_minor": 2
}
